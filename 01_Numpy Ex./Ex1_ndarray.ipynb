{
 "cells": [
  {
   "cell_type": "code",
   "execution_count": 2,
   "metadata": {},
   "outputs": [],
   "source": [
    "import numpy as np"
   ]
  },
  {
   "cell_type": "code",
   "execution_count": null,
   "metadata": {},
   "outputs": [],
   "source": [
    "array1 = np.array([1,2,3])\n",
    "array2 = np.array([[1,2,3], [4,5,6]])"
   ]
  },
  {
   "cell_type": "markdown",
   "metadata": {},
   "source": [
    "- ndarray 내 data type 은 동일한 type 만 넣을 수 있음. 정수면 정수만 or 문자면 문자\n",
    "\n",
    "- ndarray 는 메모리에 올라가기 때문에 8 bit or 16 bit integer 형으로 정의하는게 효율적임\n",
    "\n",
    "  굳이 64bit float 형으로 할 필요없음-->(메모리 많이 먹어...)"
   ]
  },
  {
   "cell_type": "markdown",
   "metadata": {},
   "source": [
    "axis 0 = 행방향 / axis 1 = 열방향 / axis 2 = Depth"
   ]
  },
  {
   "cell_type": "code",
   "execution_count": 16,
   "metadata": {},
   "outputs": [
    {
     "name": "stdout",
     "output_type": "stream",
     "text": [
      "list: [1, 2, 3]\n",
      "list type: <class 'list'>\n",
      "array1: [1 2 3]\n",
      "array1 type: <class 'numpy.ndarray'>\n",
      "array1 shape: (3,)\n"
     ]
    }
   ],
   "source": [
    "#1차원\n",
    "list = [1,2,3]\n",
    "\n",
    "print('list:', list)\n",
    "print('list type:', type(list))\n",
    "\n",
    "array1 = np.array(list)\n",
    "print('array1:', array1)\n",
    "print('array1 type:', type(array1))\n",
    "print('array1 shape:', array1.shape)"
   ]
  },
  {
   "cell_type": "code",
   "execution_count": 17,
   "metadata": {},
   "outputs": [
    {
     "name": "stdout",
     "output_type": "stream",
     "text": [
      "array2: [[1 2 3]\n",
      " [4 5 6]]\n",
      "array2 type: <class 'numpy.ndarray'>\n",
      "array2 shape: (2, 3)\n"
     ]
    }
   ],
   "source": [
    "#2차원\n",
    "array2 = np.array([[1,2,3],[4,5,6]])\n",
    "print('array2:', array2)\n",
    "print('array2 type:', type(array2))\n",
    "print('array2 shape:', array2.shape)"
   ]
  },
  {
   "cell_type": "code",
   "execution_count": 20,
   "metadata": {},
   "outputs": [
    {
     "name": "stdout",
     "output_type": "stream",
     "text": [
      "array3: [[1 2 3]]\n",
      "array3 type: <class 'numpy.ndarray'>\n",
      "array3 type: int64\n",
      "array3 shape: (1, 3)\n"
     ]
    }
   ],
   "source": [
    "#2차원 (내포형)\n",
    "array3 = np.array([[1,2,3]])\n",
    "print('array3:', array3)\n",
    "print('array3 type:', type(array3))\n",
    "print('array3 data type:', array3.dtype)\n",
    "print('array3 shape:', array3.shape)"
   ]
  },
  {
   "cell_type": "code",
   "execution_count": 23,
   "metadata": {},
   "outputs": [
    {
     "name": "stdout",
     "output_type": "stream",
     "text": [
      "['1' '2' 'String'] <U21\n"
     ]
    }
   ],
   "source": [
    "#data type 이 다르면 더 큰 type 으로 변함 ( integer < string < float64)\n",
    "array1 = np.array([1,2,'String'])\n",
    "print(array1, array1.dtype)"
   ]
  },
  {
   "cell_type": "code",
   "execution_count": 25,
   "metadata": {},
   "outputs": [
    {
     "name": "stdout",
     "output_type": "stream",
     "text": [
      "[1. 2. 3.] float64\n",
      "[1 2 3] int64\n"
     ]
    }
   ],
   "source": [
    "#형변환\n",
    "\n",
    "array2 = np.array([1,2,3])\n",
    "array3 = np.array([1.1,2.2,3.3])\n",
    "array2_float = array2.astype('float64')\n",
    "array3_int = array3.astype('int')\n",
    "\n",
    "print(array2_float, array2_float.dtype)\n",
    "print(array3_int, array3_int.dtype)"
   ]
  },
  {
   "cell_type": "code",
   "execution_count": 28,
   "metadata": {},
   "outputs": [
    {
     "name": "stdout",
     "output_type": "stream",
     "text": [
      "21\n",
      "[5 7 9]\n",
      "[ 6 15]\n"
     ]
    }
   ],
   "source": [
    "#Axis 간 Sum\n",
    "array_sum = np.array([[1,2,3],\n",
    "                     [4,5,6]])\n",
    "print(array_sum.sum())\n",
    "print(array_sum.sum(axis=0))\n",
    "print(array_sum.sum(axis=1))   "
   ]
  },
  {
   "cell_type": "markdown",
   "metadata": {},
   "source": [
    "- np.arange(10) ==> [0,1,2,3,4,5,6,7,8,9]\n",
    "- np.zeros((3,2), dtype='int32') ==>\n",
    "[[0,0],\n",
    " [0,0],\n",
    " [0,0]]\n",
    "- np.ones((3,2))\n",
    "[[1. ,1.],\n",
    " [1. ,1.],\n",
    " [1. ,1.]]\n"
   ]
  },
  {
   "cell_type": "markdown",
   "metadata": {},
   "source": [
    "- reshape(x,y)\n",
    "\n",
    " .x 는 axis 0 를 정의 / y는 axis 1을 정의\n",
    " \n",
    " .x 가 -1 인 경우 axis 1 의 갯수만큼 split 되고 axis 0 이 정해짐 (가변적)\n",
    " \n",
    " .y 가 null 인 경우 1차원으로 변환됨\n",
    " \n",
    " .x, y 둘 중 적어도 하나는 정의되어야함. 둘다 -1은 에러"
   ]
  },
  {
   "cell_type": "code",
   "execution_count": 4,
   "metadata": {},
   "outputs": [
    {
     "name": "stdout",
     "output_type": "stream",
     "text": [
      "[0 1 2 3 4 5 6 7 8 9]\n",
      "int64\n"
     ]
    }
   ],
   "source": [
    "sequence_array = np.arange(10)\n",
    "print(sequence_array)\n",
    "print(sequence_array.dtype)"
   ]
  },
  {
   "cell_type": "code",
   "execution_count": 9,
   "metadata": {},
   "outputs": [
    {
     "name": "stdout",
     "output_type": "stream",
     "text": [
      "[[0 1 2 3 4]\n",
      " [5 6 7 8 9]]\n",
      "int64\n",
      "(2, 5)\n"
     ]
    }
   ],
   "source": [
    "#2차원 reshape\n",
    "adjusted_array = sequence_array.reshape((2,5))\n",
    "print(adjusted_array)\n",
    "print(adjusted_array.dtype)\n",
    "print(adjusted_array.shape)"
   ]
  },
  {
   "cell_type": "code",
   "execution_count": 29,
   "metadata": {},
   "outputs": [
    {
     "name": "stdout",
     "output_type": "stream",
     "text": [
      "[[0 1 2 3 4]\n",
      " [5 6 7 8 9]]\n",
      "int64\n",
      "(2, 5)\n"
     ]
    }
   ],
   "source": [
    "#2차원 reshape\n",
    "adjusted_array = sequence_array.reshape((2,-1))\n",
    "print(adjusted_array)\n",
    "print(adjusted_array.dtype)\n",
    "print(adjusted_array.shape)"
   ]
  },
  {
   "cell_type": "code",
   "execution_count": 13,
   "metadata": {},
   "outputs": [
    {
     "name": "stdout",
     "output_type": "stream",
     "text": [
      "[0 1 2 3 4 5 6 7 8 9]\n",
      "int64\n",
      "(10,)\n",
      "(10,)\n"
     ]
    }
   ],
   "source": [
    "#1차원 reshape\n",
    "adjusted_array = sequence_array.reshape((-1))\n",
    "print(adjusted_array)\n",
    "print(adjusted_array.dtype)\n",
    "print(adjusted_array.shape)"
   ]
  },
  {
   "cell_type": "code",
   "execution_count": 17,
   "metadata": {},
   "outputs": [
    {
     "name": "stdout",
     "output_type": "stream",
     "text": [
      "[[0 0]\n",
      " [0 0]\n",
      " [0 0]]\n",
      "int32\n",
      "(3, 2)\n",
      "[[0. 0.]\n",
      " [0. 0.]\n",
      " [0. 0.]]\n",
      "float64\n",
      "(3, 2)\n"
     ]
    }
   ],
   "source": [
    "#zeros & ones... dtype 정의 없으면 float64가 default\n",
    "adjusted_array2 = np.zeros((3,2), dtype='int32')\n",
    "print(adjusted_array2)\n",
    "print(adjusted_array2.dtype)\n",
    "print(adjusted_array2.shape)\n",
    "\n",
    "adjusted_array3 = np.zeros((3,2))\n",
    "print(adjusted_array3)\n",
    "print(adjusted_array3.dtype)\n",
    "print(adjusted_array3.shape)"
   ]
  },
  {
   "cell_type": "code",
   "execution_count": 21,
   "metadata": {},
   "outputs": [
    {
     "name": "stdout",
     "output_type": "stream",
     "text": [
      "[[0 1 2 3 4]\n",
      " [5 6 7 8 9]]\n",
      "int64\n",
      "(2, 5)\n",
      "[[0 1]\n",
      " [2 3]\n",
      " [4 5]\n",
      " [6 7]\n",
      " [8 9]]\n",
      "int64\n",
      "(5, 2)\n"
     ]
    }
   ],
   "source": [
    "#reshape\n",
    "\n",
    "adjusted_array4 = adjusted_array.reshape(2,5)\n",
    "print(adjusted_array4)\n",
    "print(adjusted_array4.dtype)\n",
    "print(adjusted_array4.shape)\n",
    "\n",
    "adjusted_array5 = adjusted_array.reshape(5,2)\n",
    "print(adjusted_array5)\n",
    "print(adjusted_array5.dtype)\n",
    "print(adjusted_array5.shape)"
   ]
  },
  {
   "cell_type": "code",
   "execution_count": 23,
   "metadata": {},
   "outputs": [
    {
     "name": "stdout",
     "output_type": "stream",
     "text": [
      "[[0]\n",
      " [1]\n",
      " [2]\n",
      " [3]\n",
      " [4]\n",
      " [5]\n",
      " [6]\n",
      " [7]\n",
      " [8]\n",
      " [9]]\n",
      "int64\n",
      "(10, 1)\n"
     ]
    }
   ],
   "source": [
    "#2차원 Array로 reshape\n",
    "adjusted_array6 = adjusted_array4.reshape(-1,1)\n",
    "print(adjusted_array6)\n",
    "print(adjusted_array6.dtype)\n",
    "print(adjusted_array6.shape)"
   ]
  },
  {
   "cell_type": "code",
   "execution_count": 24,
   "metadata": {},
   "outputs": [
    {
     "name": "stdout",
     "output_type": "stream",
     "text": [
      "[0 1 2 3 4 5 6 7 8 9]\n",
      "int64\n",
      "(10,)\n"
     ]
    }
   ],
   "source": [
    "#1차원 Array로 reshape\n",
    "adjusted_array7 = adjusted_array4.reshape(-1,)\n",
    "print(adjusted_array7)\n",
    "print(adjusted_array7.dtype)\n",
    "print(adjusted_array7.shape)"
   ]
  },
  {
   "cell_type": "code",
   "execution_count": 30,
   "metadata": {},
   "outputs": [
    {
     "data": {
      "text/plain": [
       "array([0, 1, 2, 3, 4, 5, 6, 7, 8, 9])"
      ]
     },
     "execution_count": 30,
     "metadata": {},
     "output_type": "execute_result"
    }
   ],
   "source": [
    "#reshape내 반드시 파라메터 하나는 정의도어야함\n",
    "\n",
    "adjusted_array7.reshape(-1)"
   ]
  },
  {
   "cell_type": "code",
   "execution_count": 36,
   "metadata": {},
   "outputs": [
    {
     "name": "stdout",
     "output_type": "stream",
     "text": [
      "[1 2 3 4 5 6 7 8]\n",
      "3\n",
      "4\n",
      "5\n"
     ]
    }
   ],
   "source": [
    "#indexing\n",
    "\n",
    "array1 = np.arange(start=1, stop=9)\n",
    "#array1 = np.arange(10)\n",
    "\n",
    "print(array1)\n",
    "print(array1[2])\n",
    "print(array1[3])\n",
    "print(array1[4])"
   ]
  },
  {
   "cell_type": "code",
   "execution_count": 58,
   "metadata": {},
   "outputs": [
    {
     "name": "stdout",
     "output_type": "stream",
     "text": [
      "origin: [1 2 3 4 5 6 7 8]\n",
      "[1 2 3 4 5 6 7 8]\n",
      "[2 3 4 5 6 7 8]\n",
      "[3 4 5 6 7 8]\n",
      "[1 2 3 4 5]\n",
      "[2 3 4 5]\n",
      "[3 4 5]\n"
     ]
    }
   ],
   "source": [
    "#slicing [start index, end index]... end index -1 값까지 가져옴 (현재 array 한계값을 넘어도 실행은 됨)\n",
    "\n",
    "print('origin:', array1)\n",
    "print(array1[0:9])\n",
    "print(array1[1:9])\n",
    "print(array1[2:9])\n",
    "print(array1[0:5])\n",
    "print(array1[1:5])\n",
    "print(array1[2:5])"
   ]
  },
  {
   "cell_type": "code",
   "execution_count": 102,
   "metadata": {},
   "outputs": [
    {
     "name": "stdout",
     "output_type": "stream",
     "text": [
      "origin:\n",
      " [[ 0  1  2  3  4]\n",
      " [ 5  6  7  8  9]\n",
      " [10 11 12 13 14]\n",
      " [15 16 17 18 19]]\n",
      "array2d[0:2, 0:2] \n",
      " [[0 1]\n",
      " [5 6]]\n",
      "array2d[1:3, 0:4] \n",
      " [[ 5  6  7  8]\n",
      " [10 11 12 13]]\n",
      "array2d[1:3, :] \n",
      " [[ 5  6  7  8  9]\n",
      " [10 11 12 13 14]]\n",
      "array2d[:, :] \n",
      " [[ 0  1  2  3  4]\n",
      " [ 5  6  7  8  9]\n",
      " [10 11 12 13 14]\n",
      " [15 16 17 18 19]]\n",
      "array2d[:3, 1:] \n",
      " [[ 1  2  3  4]\n",
      " [ 6  7  8  9]\n",
      " [11 12 13 14]]\n",
      "array2d[:2, 0] \n",
      " [0 5]\n"
     ]
    }
   ],
   "source": [
    "#slicing nxdimmention\n",
    "array_20 = np.arange(20)\n",
    "\n",
    "array2d = array_20.reshape((4,-1))\n",
    "print('origin:\\n', array2d)\n",
    "\n",
    "print('array2d[0:2, 0:2] \\n', array2d[0:2, 0:2])\n",
    "print('array2d[1:3, 0:4] \\n', array2d[1:3, 0:4])\n",
    "print('array2d[1:3, :] \\n', array2d[1:3, :])\n",
    "print('array2d[:, :] \\n', array2d[:, :])\n",
    "print('array2d[:3, 1:] \\n', array2d[:3, 1:])\n",
    "print('array2d[:2, 0] \\n', array2d[:2, 0])"
   ]
  },
  {
   "cell_type": "code",
   "execution_count": 107,
   "metadata": {},
   "outputs": [
    {
     "name": "stdout",
     "output_type": "stream",
     "text": [
      "origin: \n",
      " [[ 0  1  2  3  4]\n",
      " [ 5  6  7  8  9]\n",
      " [10 11 12 13 14]\n",
      " [15 16 17 18 19]]\n",
      "array[[0,2], 0:3] \n",
      " [[ 0  1  2]\n",
      " [10 11 12]]\n",
      "array[[0,1,3], 0:3] \n",
      " [[ 0  1  2]\n",
      " [ 5  6  7]\n",
      " [15 16 17]]\n",
      "array[[0,1,3]] \n",
      " [[ 0  1  2  3  4]\n",
      " [ 5  6  7  8  9]\n",
      " [15 16 17 18 19]]\n"
     ]
    }
   ],
   "source": [
    "#fancy slicing array[[특정index,...], start index: end index]\n",
    "\n",
    "print('origin: \\n', array2d)\n",
    "\n",
    "print('array[[0,2], 0:3] \\n', array2d[[0,2], 0:3])\n",
    "print('array[[0,1,3], 0:3] \\n', array2d[[0,1,3], 0:3])\n",
    "print('array[[0,1,3]] \\n', array2d[[0,1,3]])"
   ]
  },
  {
   "cell_type": "code",
   "execution_count": 115,
   "metadata": {},
   "outputs": [
    {
     "name": "stdout",
     "output_type": "stream",
     "text": [
      "origin: \n",
      " [1 2 3 4 5 6 7 8 9]\n",
      "array > 5: \n",
      " [False False False False False  True  True  True  True]\n",
      "array[array > 5]: \n",
      " [6 7 8 9]\n",
      "value > 5: \n",
      " [9 6 7 8 9]\n"
     ]
    }
   ],
   "source": [
    "array1d = np.arange(start=1, stop=10)\n",
    "\n",
    "print('origin: \\n', array1d)\n",
    "print('array > 5: \\n', array1d>5)\n",
    "print('array[array > 5]: \\n', array1d[array1d>5])\n",
    "\n",
    "array1d[2] = 9\n",
    "\n",
    "print('value > 5: \\n', array1d[array1d>5])"
   ]
  },
  {
   "cell_type": "code",
   "execution_count": 136,
   "metadata": {},
   "outputs": [
    {
     "name": "stdout",
     "output_type": "stream",
     "text": [
      "origin arry: \n",
      " [3 1 5 6 8]\n",
      "sorted_arry: \n",
      " [1 3 5 6 8]\n",
      "origin arry: \n",
      " [1 3 5 6 8]\n",
      "Print 내에서 실행 시 origin arry: \n",
      " None\n",
      "내림차순 arry: \n",
      " [8 6 5 3 1]\n"
     ]
    }
   ],
   "source": [
    "#sort()...기본 정렬은 오름차순\n",
    "# np.sort() 는 원본행렬은 그대로 두고 sorting 된 행렬만 반환\n",
    "# ndarray.sort() 원본행렬을 sorting 하고 None 을 반환함 즉, array.sort() 만으로 실행해도 무방 \n",
    "# but 반환이 None 이므로 print 등 내부에서 실행하면 None 이 반환됨\n",
    "\n",
    "origin_arry = np.array([3,1,5,6,8])\n",
    "\n",
    "sorted_arry = np.sort(origin_arry)\n",
    "print('origin arry: \\n', origin_arry)\n",
    "print('sorted_arry: \\n', sorted_arry)\n",
    "\n",
    "#sorted_arry2 = origin_arry.sort()\n",
    "origin_arry.sort()\n",
    "print('origin arry: \\n', origin_arry)\n",
    "print('Print 내에서 실행 시 origin arry: \\n', origin_arry.sort())\n",
    "#print('sorted_arry2: \\n', sorted_arry2)\n",
    "\n",
    "\n",
    "#내림차순 [::-1]...암기요!\n",
    "sorted_arry_desc = np.sort(origin_arry)[::-1]\n",
    "print('내림차순 arry: \\n',sorted_arry_desc)"
   ]
  },
  {
   "cell_type": "code",
   "execution_count": 142,
   "metadata": {},
   "outputs": [
    {
     "name": "stdout",
     "output_type": "stream",
     "text": [
      "axix0 sorting: \n",
      " [[1 4]\n",
      " [9 6]]\n",
      "axix1 sorting: \n",
      " [[1 6]\n",
      " [4 9]]\n",
      "axix0 sorting_desc: \n",
      " [[9 6]\n",
      " [1 4]]\n",
      "axix1 sorting_desc: \n",
      " [[4 9]\n",
      " [1 6]]\n"
     ]
    }
   ],
   "source": [
    "# sort in n-dimmension\n",
    "\n",
    "arry2d = np.array([[1,6],\n",
    "                  [9,4]])\n",
    "\n",
    "print('axix0 sorting: \\n', np.sort(arry2d, axis=0))\n",
    "print('axix1 sorting: \\n', np.sort(arry2d, axis=1))\n",
    "\n",
    "print('axix0 sorting_desc: \\n', np.sort(arry2d, axis=0)[::-1])\n",
    "print('axix1 sorting_desc: \\n', np.sort(arry2d, axis=1)[::-1])"
   ]
  },
  {
   "cell_type": "code",
   "execution_count": 153,
   "metadata": {},
   "outputs": [
    {
     "name": "stdout",
     "output_type": "stream",
     "text": [
      "score argsort: \n",
      " [0 2 4 1 3]\n",
      "['John' 'Sarah' 'Samuel' 'Mike' 'Kate']\n",
      "[78 84 88 95 98]\n",
      "['Kate' 'Mike' 'Samuel' 'Sarah' 'John']\n",
      "[98 95 88 84 78]\n"
     ]
    }
   ],
   "source": [
    "#argsort\n",
    "name_array = np.array(['John', 'Mike', 'Sarah', 'Kate', 'Samuel'])\n",
    "score_array = np.array([78, 95, 84, 98, 88])\n",
    "\n",
    "score_indices = np.argsort(score_array)\n",
    "print('score argsort: \\n', score_indices)\n",
    "\n",
    "name_sorted = name_array[score_indices]\n",
    "score_sorted = score_array[score_indices]\n",
    "\n",
    "print(name_sorted)\n",
    "print(score_sorted)\n",
    "\n",
    "#내림차순\n",
    "score_indices = np.argsort(score_array)[::-1]\n",
    "\n",
    "name_sorted = name_array[score_indices]\n",
    "score_sorted = score_array[score_indices]\n",
    "\n",
    "print(name_sorted)\n",
    "print(score_sorted)"
   ]
  },
  {
   "cell_type": "code",
   "execution_count": 154,
   "metadata": {},
   "outputs": [
    {
     "name": "stdout",
     "output_type": "stream",
     "text": [
      "행렬 내적 결과:\n",
      " [[ 58  64]\n",
      " [139 154]]\n"
     ]
    }
   ],
   "source": [
    "#선형대수 계산 _ dot...내적구하기 / transpose... (x,y) => (y,x) 로 변환\n",
    "\n",
    "\n",
    "A = np.array([[1, 2, 3],\n",
    "              [4, 5, 6]])\n",
    "B = np.array([[7, 8],\n",
    "              [9, 10],\n",
    "              [11, 12]])\n",
    "\n",
    "dot_product = np.dot(A, B)\n",
    "print('행렬 내적 결과:\\n', dot_product)"
   ]
  },
  {
   "cell_type": "code",
   "execution_count": 156,
   "metadata": {},
   "outputs": [
    {
     "name": "stdout",
     "output_type": "stream",
     "text": [
      "A의 전치 행렬:\n",
      " [[1 9]\n",
      " [3 4]]\n"
     ]
    }
   ],
   "source": [
    "A = np.array([[1, 3],\n",
    "              [9, 4]])\n",
    "transpose_mat = np.transpose(A)\n",
    "print('A의 전치 행렬:\\n', transpose_mat)"
   ]
  },
  {
   "cell_type": "markdown",
   "metadata": {},
   "source": [
    "- 통상 2차원 컨트롤은 PANDAS 가 효율적이고 편함\n",
    "\n",
    "- but 3차원으로 들어가면 필수적으로 Numpy 로 컨트롤을 해야함."
   ]
  },
  {
   "cell_type": "code",
   "execution_count": null,
   "metadata": {},
   "outputs": [],
   "source": []
  }
 ],
 "metadata": {
  "kernelspec": {
   "display_name": "Python 3",
   "language": "python",
   "name": "python3"
  },
  "language_info": {
   "codemirror_mode": {
    "name": "ipython",
    "version": 3
   },
   "file_extension": ".py",
   "mimetype": "text/x-python",
   "name": "python",
   "nbconvert_exporter": "python",
   "pygments_lexer": "ipython3",
   "version": "3.8.5"
  }
 },
 "nbformat": 4,
 "nbformat_minor": 4
}
