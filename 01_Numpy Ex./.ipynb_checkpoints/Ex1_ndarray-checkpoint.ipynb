{
 "cells": [
  {
   "cell_type": "code",
   "execution_count": 1,
   "metadata": {},
   "outputs": [],
   "source": [
    "import numpy as np"
   ]
  },
  {
   "cell_type": "code",
   "execution_count": null,
   "metadata": {},
   "outputs": [],
   "source": [
    "array1 = np.array([1,2,3])\n",
    "array2 = np.array([[1,2,3], [4,5,6]])"
   ]
  },
  {
   "cell_type": "markdown",
   "metadata": {},
   "source": [
    "- ndarray 내 data type 은 동일한 type 만 넣을 수 있음. 정수면 정수만 or 문자면 문자\n",
    "- ndarray 는 메모리에 올라가기 때문에 8 bit or 16 bit integer 형으로 정의하는게 효율적임\n",
    "  굳이 64bit float 형으로 할 필요없음-->(메모리 많이 먹어...)"
   ]
  },
  {
   "cell_type": "markdown",
   "metadata": {},
   "source": [
    "axis 0 = 행방향 / axis 1 = 열방향 / axis 2 = Depth"
   ]
  },
  {
   "cell_type": "code",
   "execution_count": 16,
   "metadata": {},
   "outputs": [
    {
     "name": "stdout",
     "output_type": "stream",
     "text": [
      "list: [1, 2, 3]\n",
      "list type: <class 'list'>\n",
      "array1: [1 2 3]\n",
      "array1 type: <class 'numpy.ndarray'>\n",
      "array1 shape: (3,)\n"
     ]
    }
   ],
   "source": [
    "#1차원\n",
    "list = [1,2,3]\n",
    "\n",
    "print('list:', list)\n",
    "print('list type:', type(list))\n",
    "\n",
    "array1 = np.array(list)\n",
    "print('array1:', array1)\n",
    "print('array1 type:', type(array1))\n",
    "print('array1 shape:', array1.shape)"
   ]
  },
  {
   "cell_type": "code",
   "execution_count": 17,
   "metadata": {},
   "outputs": [
    {
     "name": "stdout",
     "output_type": "stream",
     "text": [
      "array2: [[1 2 3]\n",
      " [4 5 6]]\n",
      "array2 type: <class 'numpy.ndarray'>\n",
      "array2 shape: (2, 3)\n"
     ]
    }
   ],
   "source": [
    "#2차원\n",
    "array2 = np.array([[1,2,3],[4,5,6]])\n",
    "print('array2:', array2)\n",
    "print('array2 type:', type(array2))\n",
    "print('array2 shape:', array2.shape)"
   ]
  },
  {
   "cell_type": "code",
   "execution_count": 20,
   "metadata": {},
   "outputs": [
    {
     "name": "stdout",
     "output_type": "stream",
     "text": [
      "array3: [[1 2 3]]\n",
      "array3 type: <class 'numpy.ndarray'>\n",
      "array3 type: int64\n",
      "array3 shape: (1, 3)\n"
     ]
    }
   ],
   "source": [
    "#2차원 (내포형)\n",
    "array3 = np.array([[1,2,3]])\n",
    "print('array3:', array3)\n",
    "print('array3 type:', type(array3))\n",
    "print('array3 data type:', array3.dtype)\n",
    "print('array3 shape:', array3.shape)"
   ]
  },
  {
   "cell_type": "code",
   "execution_count": 23,
   "metadata": {},
   "outputs": [
    {
     "name": "stdout",
     "output_type": "stream",
     "text": [
      "['1' '2' 'String'] <U21\n"
     ]
    }
   ],
   "source": [
    "#data type 이 다르면 더 큰 type 으로 변함 ( integer < string < float64)\n",
    "array1 = np.array([1,2,'String'])\n",
    "print(array1, array1.dtype)"
   ]
  },
  {
   "cell_type": "code",
   "execution_count": 25,
   "metadata": {},
   "outputs": [
    {
     "name": "stdout",
     "output_type": "stream",
     "text": [
      "[1. 2. 3.] float64\n",
      "[1 2 3] int64\n"
     ]
    }
   ],
   "source": [
    "#형변환\n",
    "\n",
    "array2 = np.array([1,2,3])\n",
    "array3 = np.array([1.1,2.2,3.3])\n",
    "array2_float = array2.astype('float64')\n",
    "array3_int = array3.astype('int')\n",
    "\n",
    "print(array2_float, array2_float.dtype)\n",
    "print(array3_int, array3_int.dtype)"
   ]
  },
  {
   "cell_type": "code",
   "execution_count": 28,
   "metadata": {},
   "outputs": [
    {
     "name": "stdout",
     "output_type": "stream",
     "text": [
      "21\n",
      "[5 7 9]\n",
      "[ 6 15]\n"
     ]
    }
   ],
   "source": [
    "#Axis 간 Sum\n",
    "array_sum = np.array([[1,2,3],\n",
    "                     [4,5,6]])\n",
    "print(array_sum.sum())\n",
    "print(array_sum.sum(axis=0))\n",
    "print(array_sum.sum(axis=1))   "
   ]
  },
  {
   "cell_type": "code",
   "execution_count": null,
   "metadata": {},
   "outputs": [],
   "source": []
  }
 ],
 "metadata": {
  "kernelspec": {
   "display_name": "Python 3",
   "language": "python",
   "name": "python3"
  },
  "language_info": {
   "codemirror_mode": {
    "name": "ipython",
    "version": 3
   },
   "file_extension": ".py",
   "mimetype": "text/x-python",
   "name": "python",
   "nbconvert_exporter": "python",
   "pygments_lexer": "ipython3",
   "version": "3.8.5"
  }
 },
 "nbformat": 4,
 "nbformat_minor": 4
}
